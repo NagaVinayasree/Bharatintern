{
 "cells": [
  {
   "cell_type": "markdown",
   "id": "3c5aab06",
   "metadata": {},
   "source": [
    "### Auto Correct Tool"
   ]
  },
  {
   "cell_type": "markdown",
   "id": "f5a785f3",
   "metadata": {},
   "source": [
    "#### By using Auto correct Library"
   ]
  },
  {
   "cell_type": "code",
   "execution_count": 1,
   "id": "af334cd5",
   "metadata": {
    "collapsed": true
   },
   "outputs": [
    {
     "name": "stdout",
     "output_type": "stream",
     "text": [
      "Requirement already satisfied: autocorrect in c:\\users\\vinay\\anaconda3\\lib\\site-packages (2.6.1)\n",
      "Note: you may need to restart the kernel to use updated packages.\n"
     ]
    },
    {
     "name": "stderr",
     "output_type": "stream",
     "text": [
      "DEPRECATION: pyodbc 4.0.0-unsupported has a non-standard version number. pip 23.3 will enforce this behaviour change. A possible replacement is to upgrade to a newer version of pyodbc or contact the author to suggest that they release a version with a conforming version number. Discussion can be found at https://github.com/pypa/pip/issues/12063\n"
     ]
    }
   ],
   "source": [
    "pip install autocorrect"
   ]
  },
  {
   "cell_type": "code",
   "execution_count": 2,
   "id": "c7a18ec4",
   "metadata": {},
   "outputs": [],
   "source": [
    "from autocorrect import Speller #Speller class which is used to perform spelling correction"
   ]
  },
  {
   "cell_type": "code",
   "execution_count": 3,
   "id": "49ce4f90",
   "metadata": {},
   "outputs": [],
   "source": [
    "spl=Speller(lang='en')# as we using lang english,spl is the referal varible for Speeler class"
   ]
  },
  {
   "cell_type": "markdown",
   "id": "1285c2ab",
   "metadata": {},
   "source": [
    "#### Corrections on sinlge words"
   ]
  },
  {
   "cell_type": "code",
   "execution_count": 4,
   "id": "aa5581ab",
   "metadata": {},
   "outputs": [],
   "source": [
    "word1='hello wrld'"
   ]
  },
  {
   "cell_type": "code",
   "execution_count": 5,
   "id": "f87fbeaf",
   "metadata": {},
   "outputs": [
    {
     "name": "stdout",
     "output_type": "stream",
     "text": [
      "hello world\n"
     ]
    }
   ],
   "source": [
    "print(spl(word1)) #it correts the word"
   ]
  },
  {
   "cell_type": "code",
   "execution_count": 6,
   "id": "6e48fc8b",
   "metadata": {},
   "outputs": [],
   "source": [
    "word2='monson'"
   ]
  },
  {
   "cell_type": "code",
   "execution_count": 7,
   "id": "e2ef93d3",
   "metadata": {},
   "outputs": [
    {
     "name": "stdout",
     "output_type": "stream",
     "text": [
      "monsoon\n"
     ]
    }
   ],
   "source": [
    "print(spl(word2))"
   ]
  },
  {
   "cell_type": "markdown",
   "id": "d4511ed3",
   "metadata": {},
   "source": [
    "#### Corrections made on Paragraphs"
   ]
  },
  {
   "cell_type": "code",
   "execution_count": 8,
   "id": "1117d1ad",
   "metadata": {},
   "outputs": [],
   "source": [
    "def auto_crt(text):\n",
    "    # Split the paragraph into words\n",
    "    words=text.split()\n",
    "    correct_words=[]\n",
    "    for word in words:\n",
    "         # Correct the word\n",
    "        c_word=spl(word)\n",
    "        correct_words.append(c_word)\n",
    "        # Join the corrected words back into a paragraph\n",
    "    c_text=' '.join(correct_words)\n",
    "    return c_text\n"
   ]
  },
  {
   "cell_type": "code",
   "execution_count": 9,
   "id": "d84f70c8",
   "metadata": {},
   "outputs": [],
   "source": [
    "pas='Hello Auto Corect is packge in pyton,Speller is ued to corrrct spelings'"
   ]
  },
  {
   "cell_type": "code",
   "execution_count": 10,
   "id": "9b36b777",
   "metadata": {},
   "outputs": [
    {
     "name": "stdout",
     "output_type": "stream",
     "text": [
      "Hello Auto Correct is package in python,Speller is used to correct spellings\n"
     ]
    }
   ],
   "source": [
    "print(auto_crt(pas))"
   ]
  },
  {
   "cell_type": "markdown",
   "id": "0d6698bb",
   "metadata": {},
   "source": [
    "#### Original passage"
   ]
  },
  {
   "cell_type": "code",
   "execution_count": 11,
   "id": "78a9793a",
   "metadata": {},
   "outputs": [],
   "source": [
    "para_1='''Atificial intleligence  is the ablity of a coumputer or a robt contrloled by a coumputer to do taks taht aer \n",
    "usally done by hummmans becouse tey reqiure huuuman intillgence and discernment. Athough there are no AIs tht can peform the\n",
    "wide vareity of takss an ordianary human can do, some AIs can macth humans in specfic tasks.'''"
   ]
  },
  {
   "cell_type": "markdown",
   "id": "7b2e4ef6",
   "metadata": {},
   "source": [
    "#### Corrected passage"
   ]
  },
  {
   "cell_type": "code",
   "execution_count": 12,
   "id": "3b9b3608",
   "metadata": {
    "scrolled": true
   },
   "outputs": [
    {
     "name": "stdout",
     "output_type": "stream",
     "text": [
      "Artificial intelligence is the ability of a computer or a robot controlled by a computer to do take that aer usually done by humans because they require human intelligence and discernment. Though there are no As the can perform the wide variety of takes an ordinary human can do, some As can match humans in specific tasks.\n"
     ]
    }
   ],
   "source": [
    "print(auto_crt(para_1))"
   ]
  },
  {
   "cell_type": "markdown",
   "id": "ff34122b",
   "metadata": {},
   "source": [
    "### By using pyspellchecker library"
   ]
  },
  {
   "cell_type": "code",
   "execution_count": 13,
   "id": "7b83e29b",
   "metadata": {
    "collapsed": true
   },
   "outputs": [
    {
     "name": "stdout",
     "output_type": "stream",
     "text": [
      "Requirement already satisfied: pyspellchecker in c:\\users\\vinay\\anaconda3\\lib\\site-packages (0.7.2)\n",
      "Note: you may need to restart the kernel to use updated packages.\n"
     ]
    },
    {
     "name": "stderr",
     "output_type": "stream",
     "text": [
      "DEPRECATION: pyodbc 4.0.0-unsupported has a non-standard version number. pip 23.3 will enforce this behaviour change. A possible replacement is to upgrade to a newer version of pyodbc or contact the author to suggest that they release a version with a conforming version number. Discussion can be found at https://github.com/pypa/pip/issues/12063\n"
     ]
    }
   ],
   "source": [
    "pip install pyspellchecker"
   ]
  },
  {
   "cell_type": "code",
   "execution_count": 14,
   "id": "b633c4ef",
   "metadata": {},
   "outputs": [],
   "source": [
    "from spellchecker import SpellChecker"
   ]
  },
  {
   "cell_type": "code",
   "execution_count": 15,
   "id": "d3195e37",
   "metadata": {},
   "outputs": [],
   "source": [
    "spell=SpellChecker()"
   ]
  },
  {
   "cell_type": "markdown",
   "id": "3dad568a",
   "metadata": {},
   "source": [
    "#### Correction of sinlge words"
   ]
  },
  {
   "cell_type": "code",
   "execution_count": 16,
   "id": "a4c4cb59",
   "metadata": {},
   "outputs": [],
   "source": [
    "w1='gode'"
   ]
  },
  {
   "cell_type": "code",
   "execution_count": 17,
   "id": "100187a7",
   "metadata": {},
   "outputs": [
    {
     "name": "stdout",
     "output_type": "stream",
     "text": [
      "gone\n"
     ]
    }
   ],
   "source": [
    "print(spell.correction(w1))"
   ]
  },
  {
   "cell_type": "code",
   "execution_count": 18,
   "id": "da40bea9",
   "metadata": {},
   "outputs": [],
   "source": [
    "w2='hitller'"
   ]
  },
  {
   "cell_type": "code",
   "execution_count": 19,
   "id": "d23025b2",
   "metadata": {},
   "outputs": [
    {
     "name": "stdout",
     "output_type": "stream",
     "text": [
      "hitler\n"
     ]
    }
   ],
   "source": [
    "print(spell.correction(w2))"
   ]
  },
  {
   "cell_type": "markdown",
   "id": "830170c1",
   "metadata": {},
   "source": [
    "#### Correction made on passages"
   ]
  },
  {
   "cell_type": "code",
   "execution_count": 20,
   "id": "dcb0c12c",
   "metadata": {},
   "outputs": [],
   "source": [
    "spell=SpellChecker()\n",
    "def pyshell_auto_crt(text):\n",
    "    # Split the paragraph into words\n",
    "    words =text.split()\n",
    "    corrections={}\n",
    "    for word in words:\n",
    "        # Check if the word is misspelled\n",
    "        if not spell.correction(word) == word:\n",
    "            corrections[word] = spell.correction(word)\n",
    "    return corrections\n"
   ]
  },
  {
   "cell_type": "code",
   "execution_count": 21,
   "id": "45e8cc99",
   "metadata": {},
   "outputs": [],
   "source": [
    "correct_dict=pyshell_auto_crt(para_1)"
   ]
  },
  {
   "cell_type": "markdown",
   "id": "55a4ff13",
   "metadata": {},
   "source": [
    "#### list of Incorrect & Correct words in a passage"
   ]
  },
  {
   "cell_type": "code",
   "execution_count": 22,
   "id": "49a66a82",
   "metadata": {
    "scrolled": true
   },
   "outputs": [
    {
     "name": "stdout",
     "output_type": "stream",
     "text": [
      "Atificial: artificial\n",
      "intleligence: intelligence\n",
      "ablity: ability\n",
      "coumputer: computer\n",
      "robt: rob\n",
      "contrloled: controlled\n",
      "taks: take\n",
      "taht: that\n",
      "usally: usually\n",
      "hummmans: humans\n",
      "becouse: because\n",
      "reqiure: require\n",
      "huuuman: human\n",
      "intillgence: intelligence\n",
      "discernment.: discernment\n",
      "Athough: though\n",
      "AIs: is\n",
      "tht: the\n",
      "peform: perform\n",
      "vareity: variety\n",
      "takss: takes\n",
      "ordianary: ordinary\n",
      "do,: do\n",
      "macth: match\n",
      "specfic: specific\n",
      "tasks.: tasks\n"
     ]
    }
   ],
   "source": [
    "for incorrect_word, corrected_word in correct_dict.items():\n",
    "    print(f\"{incorrect_word}: {corrected_word}\") #display all the incorrect words with corrections"
   ]
  },
  {
   "cell_type": "code",
   "execution_count": 23,
   "id": "3603adcb",
   "metadata": {},
   "outputs": [],
   "source": [
    "para_2='''John McCarthy is considred as the fother of Artifcial Intlligence. John McCarthy was an Amercan compter scientst.\n",
    "The term \"artiicial intelligence\" was coined by hm. He is one of teh founnder of artficial intellgence, tagether with\n",
    "Alan Turing, Marvin Minsky, Allen Newell, and Herbert A.'''"
   ]
  },
  {
   "cell_type": "code",
   "execution_count": 24,
   "id": "23d95c24",
   "metadata": {},
   "outputs": [
    {
     "name": "stdout",
     "output_type": "stream",
     "text": [
      "hello\n"
     ]
    }
   ],
   "source": [
    "print(spell.correction('hello'))"
   ]
  },
  {
   "cell_type": "code",
   "execution_count": 25,
   "id": "91a39280",
   "metadata": {},
   "outputs": [
    {
     "name": "stdout",
     "output_type": "stream",
     "text": [
      "This is a paragraph with summary and miskates. please correct it\n"
     ]
    }
   ],
   "source": [
    "from spellchecker import SpellChecker\n",
    "\n",
    "# Create a SpellChecker object\n",
    "spell = SpellChecker()\n",
    "\n",
    "# Function to perform spelling correction\n",
    "def pyshell_auto_crts(text):\n",
    "    # Split the paragraph into words\n",
    "    words = text.split()\n",
    "    corrections = []\n",
    "    for word in words:\n",
    "        c_word = spell.correction(word)\n",
    "        if c_word is not None:\n",
    "            corrections.append(c_word)\n",
    "        else:\n",
    "            corrections.append(word)  # Use the original word if no correction is found\n",
    "    # Join the corrected words back into a paragraph\n",
    "    corrected_text = ' '.join(corrections)\n",
    "    return corrected_text\n",
    "input_text = \"This is a parageraph wth summmary and miskates. Pleae corect it.\"\n",
    "corrected_paragraph = pyshell_auto_crts(input_text)\n",
    "print(corrected_paragraph)"
   ]
  },
  {
   "cell_type": "markdown",
   "id": "87e5e757",
   "metadata": {},
   "source": [
    "### By using TextBlob Library"
   ]
  },
  {
   "cell_type": "raw",
   "id": "2ae730aa",
   "metadata": {
    "collapsed": true
   },
   "source": [
    "pip install testblob"
   ]
  },
  {
   "cell_type": "code",
   "execution_count": 27,
   "id": "ddc6e50b",
   "metadata": {},
   "outputs": [],
   "source": [
    "from textblob import TextBlob"
   ]
  },
  {
   "cell_type": "code",
   "execution_count": 28,
   "id": "54acc2a4",
   "metadata": {},
   "outputs": [],
   "source": [
    "para_2='''John McCarthy is considred as the fother of Artifcial Intlligence. John McCarthy was an Amercan compter scientst.\n",
    "The term \"artiicial intelligence\" was coined by hm. He is one of teh founnder of artficial intellgence, tagether with\n",
    "Alan Turing, Marvin Minsky, Allen Newell, and Herbert A.'''"
   ]
  },
  {
   "cell_type": "code",
   "execution_count": 29,
   "id": "f3eb21e3",
   "metadata": {},
   "outputs": [
    {
     "name": "stdout",
     "output_type": "stream",
     "text": [
      "John mccarthy is considered as the other of Artificial Intelligence. John mccarthy was an American computer scientist.\n",
      "The term \"artificial intelligence\" was joined by hm. He is one of the founder of artificial intelligence, together with\n",
      "Plan During, Margin Risky, Ellen Well, and Herbert A.\n"
     ]
    }
   ],
   "source": [
    "print((TextBlob(para_2).correct()))"
   ]
  },
  {
   "cell_type": "code",
   "execution_count": 30,
   "id": "d246e848",
   "metadata": {},
   "outputs": [
    {
     "name": "stdout",
     "output_type": "stream",
     "text": [
      "Familiar\n"
     ]
    }
   ],
   "source": [
    "wor= 'Tamiliar'\n",
    "tb=TextBlob(wor)\n",
    "print(tb.correct())"
   ]
  }
 ],
 "metadata": {
  "kernelspec": {
   "display_name": "Python 3 (ipykernel)",
   "language": "python",
   "name": "python3"
  },
  "language_info": {
   "codemirror_mode": {
    "name": "ipython",
    "version": 3
   },
   "file_extension": ".py",
   "mimetype": "text/x-python",
   "name": "python",
   "nbconvert_exporter": "python",
   "pygments_lexer": "ipython3",
   "version": "3.11.4"
  }
 },
 "nbformat": 4,
 "nbformat_minor": 5
}
